{
 "cells": [
  {
   "cell_type": "markdown",
   "id": "45ccb4f4-647b-4f12-89cf-4542c7555e5a",
   "metadata": {},
   "source": [
    "Q1. Create one variable containing following type of data:"
   ]
  },
  {
   "cell_type": "markdown",
   "id": "53e189ed-e894-42f6-9c0a-9fd4202687b4",
   "metadata": {},
   "source": [
    "a = \"Sandesh\"\n",
    "b = [1,2,3,4,5]\n",
    "c = 23.56\n",
    "d = (\"sandesh\", \"shankar\", \"khandagale\")"
   ]
  },
  {
   "cell_type": "markdown",
   "id": "510fa83d-5715-4f7f-9d9f-7fa51e6dd28b",
   "metadata": {},
   "source": [
    "Q2. Given are some following variables containing data:"
   ]
  },
  {
   "cell_type": "markdown",
   "id": "969c5c75-eb03-4477-aeb5-92c1f7c0b169",
   "metadata": {},
   "source": [
    "(i)\tvar1 = ' ' Type = String\n",
    "\n",
    "(ii)\tvar2 = ‘[ DS , ML , Python]’ Type = String\n",
    "\n",
    "(iii)\tvar3 = [ ‘DS’ , ’ML’ , ‘Python’ ] Type = List\n",
    "\n",
    "(iv)\tvar4 = 1  Type = Integer"
   ]
  },
  {
   "cell_type": "markdown",
   "id": "47671006-48a2-4b04-8299-7a04c751da1c",
   "metadata": {},
   "source": [
    "Q3. Explain the use of the following operators using an example"
   ]
  },
  {
   "cell_type": "markdown",
   "id": "10387eb9-d6df-4c8f-9df7-8f59202d23c4",
   "metadata": {},
   "source": [
    "(i)\t/ = divides the first operand by the second\n",
    "(ii) % = returns the remainder when the first operand is divided by the second\n",
    "(iii)\t// = divides the first operand by the second\n",
    "(iv)\t** = Returns first raised to power second\n"
   ]
  },
  {
   "cell_type": "markdown",
   "id": "2da5cb3d-a95a-44de-a5b3-de0898c78013",
   "metadata": {},
   "source": [
    "Q4. Create a list of length 10 of your choice containing multiple types of data. Using for loop print the element and its data type\n"
   ]
  },
  {
   "cell_type": "code",
   "execution_count": 3,
   "id": "1b7971ca-98f0-4588-a236-da88fcd5c7cb",
   "metadata": {},
   "outputs": [
    {
     "name": "stdout",
     "output_type": "stream",
     "text": [
      "1\n",
      "<class 'int'>\n",
      "2\n",
      "<class 'int'>\n",
      "sand\n",
      "<class 'str'>\n",
      "2.34\n",
      "<class 'float'>\n",
      "(1, 2)\n",
      "<class 'tuple'>\n",
      "4\n",
      "<class 'int'>\n",
      "55.6\n",
      "<class 'float'>\n",
      "True\n",
      "<class 'bool'>\n",
      "(9+6j)\n",
      "<class 'complex'>\n",
      "10\n",
      "<class 'int'>\n"
     ]
    }
   ],
   "source": [
    "a= [1,2, \"sand\", 2.34, (1,2),4,55.6,True,9+6j,10]\n",
    "\n",
    "for i in a:\n",
    "    print (i)\n",
    "    print (type(i))\n"
   ]
  },
  {
   "cell_type": "markdown",
   "id": "40a32312-89be-42a6-b58e-8971b8d04f17",
   "metadata": {},
   "source": [
    "Q5. Using a while loop, verify if the number A is purely divisible by number B and if so then how many times it can be divisible"
   ]
  },
  {
   "cell_type": "code",
   "execution_count": 6,
   "id": "9d4b2d1e-9980-4100-a746-5b665227e845",
   "metadata": {},
   "outputs": [
    {
     "name": "stdout",
     "output_type": "stream",
     "text": [
      "10\n",
      "1\n",
      "a is divisible by b\n",
      "10\n",
      "2\n",
      "a is divisible by b\n",
      "10\n",
      "3\n",
      "a is not divisible by b\n",
      "10\n",
      "4\n",
      "a is not divisible by b\n",
      "10\n",
      "5\n",
      "a is divisible by b\n",
      "10\n",
      "6\n",
      "a is not divisible by b\n",
      "10\n",
      "7\n",
      "a is not divisible by b\n",
      "10\n",
      "8\n",
      "a is not divisible by b\n",
      "10\n",
      "9\n",
      "a is not divisible by b\n",
      "10\n",
      "10\n",
      "a is divisible by b\n",
      "4\n",
      "times a is divisible by b\n"
     ]
    }
   ],
   "source": [
    "a = 10\n",
    "b=  1\n",
    "i = 0\n",
    "while a>=b:\n",
    "    if a%b ==0:\n",
    "        print(a)\n",
    "        print(b)\n",
    "        print(\"a is divisible by b\")\n",
    "        b= b+1\n",
    "        i = i+1\n",
    "       \n",
    "        \n",
    "        \n",
    "                \n",
    "    else:\n",
    "        print(a)\n",
    "        print(b)\n",
    "        print(\"a is not divisible by b\")\n",
    "        \n",
    "        b= b+1       \n",
    "print(i)\n",
    "print(\"times a is divisible by b\")"
   ]
  },
  {
   "cell_type": "markdown",
   "id": "57149e34-0911-454b-827c-f08079d12e8b",
   "metadata": {},
   "source": [
    "Q6. Create a list containing 25 int type data. Using for loop and if-else condition print if the element is divisible by 3 or not\n"
   ]
  },
  {
   "cell_type": "code",
   "execution_count": null,
   "id": "d4d06e51-0f94-4de5-ad34-d3002655ac07",
   "metadata": {},
   "outputs": [
    {
     "name": "stdout",
     "output_type": "stream",
     "text": [
      "0\n",
      "divisible by 3\n",
      "1\n",
      "not divisible by 3\n",
      "2\n",
      "not divisible by 3\n",
      "3\n",
      "divisible by 3\n",
      "4\n",
      "not divisible by 3\n",
      "5\n",
      "not divisible by 3\n",
      "6\n",
      "divisible by 3\n",
      "7\n",
      "not divisible by 3\n",
      "8\n",
      "not divisible by 3\n",
      "9\n",
      "divisible by 3\n",
      "10\n",
      "not divisible by 3\n",
      "11\n",
      "not divisible by 3\n",
      "12\n",
      "divisible by 3\n",
      "13\n",
      "not divisible by 3\n",
      "14\n",
      "not divisible by 3\n",
      "15\n",
      "divisible by 3\n",
      "16\n",
      "not divisible by 3\n",
      "17\n",
      "not divisible by 3\n",
      "18\n",
      "divisible by 3\n",
      "19\n",
      "not divisible by 3\n",
      "20\n",
      "not divisible by 3\n",
      "21\n",
      "divisible by 3\n",
      "22\n",
      "not divisible by 3\n",
      "23\n",
      "not divisible by 3\n",
      "24\n",
      "divisible by 3\n"
     ]
    }
   ],
   "source": [
    "a = list (range(25))\n",
    "for i in a:\n",
    "    print(i)\n",
    "    if i%3 == 0:\n",
    "        print(\"divisible by 3\")\n",
    "        \n",
    "    else:\n",
    "        print(\"not divisible by 3\")\n"
   ]
  },
  {
   "cell_type": "markdown",
   "id": "b1545c0f-8fb9-4d55-af0b-3b65e44fa725",
   "metadata": {},
   "source": [
    "Q7. What do you understand about mutable and immutable data types? Give examples for both showing this property."
   ]
  },
  {
   "cell_type": "markdown",
   "id": "a87699e6-6d14-4d69-b8d5-16b1c31db7b1",
   "metadata": {},
   "source": [
    "Mutable objects are those that allow you to change their value or data in place without affecting the object’s identity. In contrast, immutable objects don’t allow this kind of operation. You’ll just have the option of creating new objects of the same type with different values.\n",
    "Eg. l= [1,2,3,4, \"sand\", True, 'pwskills', 4+5j]\n",
    "l[3] = 4\n",
    "l[3]=150\n",
    "Ans. l= [1,2,3,150, \"sand\", True, 'pwskills', 4+5j] \n",
    "in above example we can replace 4 with 150 number so List is mutable\n",
    "\n",
    "now  s =\"sand\"\n",
    "s[1] = ‘a’\n",
    "S[1] = ‘p’\n",
    "Not possible, we can not replace. \n",
    "In above example we can not replace ‘a’ with ‘p’ so String is immutable\n"
   ]
  },
  {
   "cell_type": "code",
   "execution_count": null,
   "id": "fb536593-ce97-4626-93c8-73baec94985b",
   "metadata": {},
   "outputs": [],
   "source": []
  }
 ],
 "metadata": {
  "kernelspec": {
   "display_name": "Python 3 (ipykernel)",
   "language": "python",
   "name": "python3"
  },
  "language_info": {
   "codemirror_mode": {
    "name": "ipython",
    "version": 3
   },
   "file_extension": ".py",
   "mimetype": "text/x-python",
   "name": "python",
   "nbconvert_exporter": "python",
   "pygments_lexer": "ipython3",
   "version": "3.10.8"
  }
 },
 "nbformat": 4,
 "nbformat_minor": 5
}
